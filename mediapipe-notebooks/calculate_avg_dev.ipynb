{
 "cells": [
  {
   "cell_type": "code",
   "execution_count": 1,
   "id": "702a64fb",
   "metadata": {},
   "outputs": [],
   "source": [
    "import cv2\n",
    "from imutils import face_utils\n",
    "import pandas as pd\n",
    "import numpy as np\n",
    "import mediapipe as mp\n",
    "\n",
    "import os\n",
    "import re\n",
    "import math\n"
   ]
  },
  {
   "cell_type": "code",
   "execution_count": 2,
   "id": "a4c01380",
   "metadata": {},
   "outputs": [],
   "source": [
    "pack_identify = {\n",
    "    \"mouth_up_all\" : [61, 78, 95, 88, 178, 87, 14, 317, 402, 318, 324, 308, 291],\n",
    "    \"mouth_up_indicate\" : [61, 78, 308, 291],\n",
    "    \"mouth_near_ext\" : [78, 308],\n",
    "    \"mouth_left_ext\" : 61,\n",
    "    \"mouth_rigth_ext\" : 291,\n",
    "\n",
    "    \"left_brow\" : [70, 63, 105, 66, 107, 55, 65],\n",
    "    \"rigth_brow\" : [336, 296, 334, 293, 300, 285, 295],\n",
    "    \"left_brow_indicate\" : [70, 107],\n",
    "    \"left_brow_center\" : 105,\n",
    "    \"rigth_brow_indicate\" : [336, 300],\n",
    "    \"rigth_brow_center\" : 334,\n",
    "\n",
    "\n",
    "    \"jawline_all\" : [234, 93, 132, 58, 172, 136, 150, 149, 176, 148, 152, 377, 400, 378, 379, 365, 397],\n",
    "    \"jawline_indicate\" : [149, 176, 148, 152, 377, 400, 378],\n",
    "    \"jawline_center\" : [148, 152, 377],\n",
    "    \"jawline_indicate\" : [149, 378]\n",
    "}"
   ]
  },
  {
   "cell_type": "code",
   "execution_count": 3,
   "id": "08f9ea5b",
   "metadata": {},
   "outputs": [],
   "source": [
    "class Landmark():\n",
    "    def __init__(self, x : int, y : int):\n",
    "        self.x = x\n",
    "        self.y = y"
   ]
  },
  {
   "cell_type": "code",
   "execution_count": 4,
   "id": "219d221f",
   "metadata": {},
   "outputs": [],
   "source": [
    "def segment_length(x1, y1, x2, y2):\n",
    "    return math.sqrt((y2 - y1) ** 2 + (x2 - x1) ** 2)\n",
    "\n",
    "\n",
    "def point_to_line_distance(x0, y0, x1, y1, x2, y2):\n",
    "    numerator = abs((y2 - y1) * x0 - (x2 - x1) * y0 + x2 * y1 - y2 * x1)\n",
    "    denominator = segment_length(x1, y1, x2, y2)\n",
    "    if denominator == 0:\n",
    "        raise ValueError(\"Точки x1,y1 и x2,y2 совпадают — нельзя построить прямую.\")\n",
    "    return numerator / denominator, denominator / 2\n"
   ]
  },
  {
   "cell_type": "code",
   "execution_count": 18,
   "id": "960eb21d",
   "metadata": {},
   "outputs": [],
   "source": [
    "def dev_mouth(landmarks : list[Landmark],\n",
    "              left_ext_idx : int = 61,\n",
    "              rigth_ext_idx : int = 291,\n",
    "              near_lms : list = pack_identify[\"mouth_near_ext\"]):\n",
    "    left_ext_lm = landmarks[left_ext_idx]\n",
    "    rigth_ext_lm = landmarks[rigth_ext_idx]\n",
    "\n",
    "    left_near_lm = landmarks[near_lms[0]]\n",
    "    rigth_near_lm = landmarks[near_lms[1]]\n",
    "    \n",
    "    left_div_y = abs(left_ext_lm.y - left_near_lm.y)\n",
    "    rigth_div_y = abs(rigth_ext_lm.y - rigth_near_lm.y)\n",
    "\n",
    "    left_div_x = abs(left_ext_lm.x - left_near_lm.x) if left_ext_lm.x != left_near_lm.x else 1\n",
    "    rigth_div_x = abs(rigth_ext_lm.x - rigth_near_lm.x) if rigth_ext_lm.x != rigth_near_lm.x else 1\n",
    "\n",
    "    result_div = (left_div_y / left_div_x + rigth_div_y / rigth_div_x) / 2 * 100\n",
    "    return result_div\n",
    "\n",
    "def dev_brows(landmarks : list[Landmark],\n",
    "                left_ext_idxs : list = pack_identify[\"left_brow_indicate\"],\n",
    "                rigth_ext_idxs : list = pack_identify[\"rigth_brow_indicate\"],\n",
    "                left_center_idx : int = pack_identify[\"left_brow_center\"],\n",
    "                rigth_center_idx : int = pack_identify[\"rigth_brow_center\"]):\n",
    "    left_dist, left_half_base_len = point_to_line_distance(landmarks[left_center_idx].x,\n",
    "                                       landmarks[left_center_idx].y,\n",
    "                                       landmarks[left_ext_idxs[0]].x,\n",
    "                                       landmarks[left_ext_idxs[0]].y,\n",
    "                                       landmarks[left_ext_idxs[1]].x,\n",
    "                                       landmarks[left_ext_idxs[1]].y)\n",
    "    \n",
    "    rigth_dist, rigth_half_base_len = point_to_line_distance(landmarks[rigth_center_idx].x,\n",
    "                                       landmarks[rigth_center_idx].y,\n",
    "                                       landmarks[rigth_ext_idxs[0]].x,\n",
    "                                       landmarks[rigth_ext_idxs[0]].y,\n",
    "                                       landmarks[rigth_ext_idxs[1]].x,\n",
    "                                       landmarks[rigth_ext_idxs[1]].y)\n",
    "\n",
    "    result_div = (left_dist / left_half_base_len + rigth_dist / rigth_half_base_len) / 2 * 100\n",
    "    \n",
    "    return result_div\n",
    "\n",
    "def dev_jawline(landmarks : list[Landmark],\n",
    "                center : list[int] = pack_identify[\"jawline_center\"],\n",
    "                ext_idx : list[int] = pack_identify[\"jawline_indicate\"]):\n",
    "    left_dist, _ = point_to_line_distance(landmarks[ext_idx[0]].x,\n",
    "                                       landmarks[ext_idx[0]].y,\n",
    "                                       landmarks[center[0]].x,\n",
    "                                       landmarks[center[0]].y,\n",
    "                                       landmarks[center[-1]].x,\n",
    "                                       landmarks[center[-1]].y)\n",
    "    \n",
    "    rigth_dist, _ = point_to_line_distance(landmarks[ext_idx[-1]].x,\n",
    "                                       landmarks[ext_idx[-1]].y,\n",
    "                                       landmarks[center[0]].x,\n",
    "                                       landmarks[center[0]].y,\n",
    "                                       landmarks[center[-1]].x,\n",
    "                                       landmarks[center[-1]].y)\n",
    "    \n",
    "    left_dist_x = abs(landmarks[center[0]].x - landmarks[ext_idx[0]].x)\n",
    "    rigth_dist_x = abs(landmarks[center[-1]].x - landmarks[ext_idx[-1]].x)\n",
    "\n",
    "    result_div = (left_dist / left_dist_x + rigth_dist / rigth_dist_x) / 2 * 100\n",
    "\n",
    "    return result_div\n",
    "   \n"
   ]
  },
  {
   "cell_type": "code",
   "execution_count": 6,
   "id": "af006851",
   "metadata": {},
   "outputs": [],
   "source": [
    "DATASET_ALL_DATA = \"../all_data/\"\n",
    "\n",
    "# Загружаем модель\n",
    "mp_face_mesh = mp.solutions.face_mesh\n",
    "face_mesh = mp_face_mesh.FaceMesh(static_image_mode=True, max_num_faces=1)\n",
    "\n"
   ]
  },
  {
   "cell_type": "code",
   "execution_count": 7,
   "id": "e7160a49",
   "metadata": {},
   "outputs": [],
   "source": [
    "def numeric_key(name):\n",
    "    return [int(s) if s.isdigit() else s for s in re.split(r'(\\d+)', name)]"
   ]
  },
  {
   "cell_type": "code",
   "execution_count": 8,
   "id": "8a0b492f",
   "metadata": {},
   "outputs": [],
   "source": [
    "def get_landmarks(image_path):\n",
    "    image_array = np.fromfile(image_path, dtype=np.uint8)\n",
    "    image = cv2.imdecode(image_array, cv2.IMREAD_COLOR)\n",
    "    if image is None:\n",
    "        raise ValueError(\"Изображение не загружено!\")\n",
    "            \n",
    "    image_rgb = cv2.cvtColor(image, cv2.COLOR_BGR2RGB)\n",
    "\n",
    "    height, width = image_rgb.shape[:2]\n",
    "\n",
    "    # Детектируем лицо\n",
    "    faces = face_mesh.process(image_rgb)\n",
    "\n",
    "    if not faces.multi_face_landmarks:\n",
    "        return\n",
    "\n",
    "    shape = faces.multi_face_landmarks[0]\n",
    "\n",
    "    return [Landmark(p.x * width, p.y * height) for p in shape.landmark]"
   ]
  },
  {
   "cell_type": "code",
   "execution_count": 9,
   "id": "15b5c17d",
   "metadata": {},
   "outputs": [],
   "source": [
    "def build_dataframe(dataset_dir,\n",
    "                    t_procents_mouth: list,\n",
    "                    f_procents_mouth: list,\n",
    "                    t_procents_brows: list,\n",
    "                    f_procents_brows: list,\n",
    "                    t_procents_jawline: list,\n",
    "                    f_procents_jawline: list,\n",
    "                    get_label_func = lambda k : k // 8): # получаем числовой код папки\n",
    "    k = 0\n",
    "    for label_dir in sorted(os.listdir(dataset_dir), key=numeric_key):\n",
    "        label_path = os.path.join(dataset_dir, label_dir)\n",
    "        if not os.path.isdir(label_path):\n",
    "            continue\n",
    "\n",
    "        for filename in os.listdir(label_path):\n",
    "            if filename.lower().endswith(('.png', '.jpg', '.jpeg')):\n",
    "                image_path = os.path.join(label_path, filename)\n",
    "\n",
    "                result = get_landmarks(image_path)\n",
    "                \n",
    "                if result is None:\n",
    "                    continue\n",
    "                landmarks = result\n",
    "                \n",
    "                avg_dev_percent_mouth = dev_mouth(\n",
    "                    landmarks = landmarks)\n",
    "                \n",
    "                avg_dev_percent_brows = dev_brows(\n",
    "                    landmarks = landmarks)\n",
    "                \n",
    "                avg_dev_percent_jawline = dev_jawline(\n",
    "                    landmarks = landmarks)\n",
    "                \n",
    "                if get_label_func(k) % 2 == 0:\n",
    "                    t_procents_mouth.append(avg_dev_percent_mouth)\n",
    "                    t_procents_brows.append(avg_dev_percent_brows)\n",
    "                    t_procents_jawline.append(avg_dev_percent_jawline)\n",
    "\n",
    "                else:\n",
    "                    f_procents_mouth.append(avg_dev_percent_mouth)\n",
    "                    f_procents_brows.append(avg_dev_percent_brows)\n",
    "                    f_procents_jawline.append(avg_dev_percent_jawline)\n",
    "                \n",
    "        k += 1\n"
   ]
  },
  {
   "cell_type": "code",
   "execution_count": 21,
   "id": "1a3f85a5",
   "metadata": {},
   "outputs": [],
   "source": [
    "t_procents_mouth = []\n",
    "f_procents_mouth = []\n",
    "t_procents_brows = []\n",
    "f_procents_brows = []\n",
    "t_procents_jawline = []\n",
    "f_procents_jawline = []\n"
   ]
  },
  {
   "cell_type": "code",
   "execution_count": 22,
   "id": "ccd88771",
   "metadata": {},
   "outputs": [],
   "source": [
    "build_dataframe(DATASET_ALL_DATA,\n",
    "                t_procents_mouth=t_procents_mouth,\n",
    "                f_procents_mouth=f_procents_mouth,\n",
    "                t_procents_brows=t_procents_brows,\n",
    "                f_procents_brows=f_procents_brows,\n",
    "                t_procents_jawline=t_procents_jawline,\n",
    "                f_procents_jawline=f_procents_jawline,)\n"
   ]
  },
  {
   "cell_type": "code",
   "execution_count": 23,
   "id": "79cf1e9d",
   "metadata": {},
   "outputs": [
    {
     "name": "stdout",
     "output_type": "stream",
     "text": [
      "37705\n",
      "31426\n",
      "37705\n",
      "31426\n",
      "37705\n",
      "31426\n"
     ]
    }
   ],
   "source": [
    "print(len(t_procents_mouth))\n",
    "print(len(f_procents_mouth))\n",
    "\n",
    "print(len(t_procents_jawline))\n",
    "print(len(f_procents_jawline))\n",
    "\n",
    "print(len(t_procents_brows))\n",
    "print(len(f_procents_brows))\n"
   ]
  },
  {
   "cell_type": "code",
   "execution_count": 24,
   "id": "265cde39",
   "metadata": {},
   "outputs": [
    {
     "name": "stdout",
     "output_type": "stream",
     "text": [
      "Среднее отклонение линии рта для thinking: 17.69%\n",
      "Среднее отклонение линии рта для feeling: 18.81%\n"
     ]
    }
   ],
   "source": [
    "print(f\"Среднее отклонение линии рта для thinking: {sum(t_procents_mouth)/len(t_procents_mouth):.2f}%\")\n",
    "\n",
    "print(f\"Среднее отклонение линии рта для feeling: {sum(f_procents_mouth)/len(f_procents_mouth):.2f}%\")"
   ]
  },
  {
   "cell_type": "code",
   "execution_count": 25,
   "id": "e80c0bb1",
   "metadata": {},
   "outputs": [
    {
     "name": "stdout",
     "output_type": "stream",
     "text": [
      "Среднее отклонение бровей для thinking: 158.18%\n",
      "Среднее отклонение бровей для feeling: 171.38%\n"
     ]
    }
   ],
   "source": [
    "print(f\"Среднее отклонение бровей для thinking: {sum(t_procents_jawline)/len(t_procents_jawline):.2f}%\")\n",
    "\n",
    "print(f\"Среднее отклонение бровей для feeling: {sum(f_procents_jawline)/len(f_procents_jawline):.2f}%\")"
   ]
  },
  {
   "cell_type": "code",
   "execution_count": 26,
   "id": "518ed582",
   "metadata": {},
   "outputs": [
    {
     "name": "stdout",
     "output_type": "stream",
     "text": [
      "Среднее отклонение бровей для thinking: 35.23%\n",
      "Среднее отклонение бровей для feeling: 34.40%\n"
     ]
    }
   ],
   "source": [
    "print(f\"Среднее отклонение бровей для thinking: {sum(t_procents_brows)/len(t_procents_brows):.2f}%\")\n",
    "\n",
    "print(f\"Среднее отклонение бровей для feeling: {sum(f_procents_brows)/len(f_procents_brows):.2f}%\")"
   ]
  }
 ],
 "metadata": {
  "kernelspec": {
   "display_name": ".venv",
   "language": "python",
   "name": "python3"
  },
  "language_info": {
   "codemirror_mode": {
    "name": "ipython",
    "version": 3
   },
   "file_extension": ".py",
   "mimetype": "text/x-python",
   "name": "python",
   "nbconvert_exporter": "python",
   "pygments_lexer": "ipython3",
   "version": "3.10.5"
  }
 },
 "nbformat": 4,
 "nbformat_minor": 5
}
