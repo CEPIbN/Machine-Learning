{
 "cells": [
  {
   "cell_type": "code",
   "execution_count": null,
   "id": "702a64fb",
   "metadata": {},
   "outputs": [],
   "source": [
    "import cv2\n",
    "from imutils import face_utils\n",
    "import pandas as pd\n",
    "import numpy as np\n",
    "import mediapipe as mp\n",
    "\n",
    "import os\n",
    "import re\n",
    "\n"
   ]
  },
  {
   "cell_type": "code",
   "execution_count": 12,
   "id": "6cb0be2a",
   "metadata": {},
   "outputs": [],
   "source": [
    "import math\n",
    "\n",
    "def average_mouth_deviation_percent(landmarks, image_width, image_height):\n",
    "    def denormalize(landmark):\n",
    "        return (landmark.x * image_width, landmark.y * image_height)\n",
    "\n",
    "    # Уголки рта\n",
    "    left = denormalize(landmarks[61])\n",
    "    right = denormalize(landmarks[291])\n",
    "\n",
    "    # Расстояние между уголками рта (основание линии)\n",
    "    mouth_width = math.dist(left, right)\n",
    "\n",
    "    # Прямая: Ax + By + C = 0\n",
    "    A = right[1] - left[1]\n",
    "    B = left[0] - right[0]\n",
    "    C = right[0] * left[1] - left[0] * right[1]\n",
    "\n",
    "    # Внутренний контур рта\n",
    "    mouth_indices = [78, 80, 82, 13, 312, 310, 308, 14]\n",
    "\n",
    "    deviations = []\n",
    "    for idx in mouth_indices:\n",
    "        x, y = denormalize(landmarks[idx])\n",
    "        dist = abs(A * x + B * y + C) / math.sqrt(A**2 + B**2)\n",
    "        deviations.append(dist)\n",
    "\n",
    "    # Среднее отклонение в пикселях\n",
    "    avg_dev_px = sum(deviations) / len(deviations)\n",
    "\n",
    "    # Отклонение в процентах от ширины рта\n",
    "    avg_dev_percent = (avg_dev_px / mouth_width) * 100 if mouth_width > 0 else 0\n",
    "\n",
    "    return avg_dev_percent"
   ]
  },
  {
   "cell_type": "code",
   "execution_count": 13,
   "id": "af006851",
   "metadata": {},
   "outputs": [],
   "source": [
    "DATASET_ALL_DATA = \"../all_data/\"\n",
    "\n",
    "# Загружаем модель\n",
    "mp_face_mesh = mp.solutions.face_mesh\n",
    "face_mesh = mp_face_mesh.FaceMesh(static_image_mode=True, max_num_faces=1)\n",
    "\n"
   ]
  },
  {
   "cell_type": "code",
   "execution_count": 14,
   "id": "e7160a49",
   "metadata": {},
   "outputs": [],
   "source": [
    "def numeric_key(name):\n",
    "    return [int(s) if s.isdigit() else s for s in re.split(r'(\\d+)', name)]"
   ]
  },
  {
   "cell_type": "code",
   "execution_count": 15,
   "id": "8a0b492f",
   "metadata": {},
   "outputs": [],
   "source": [
    "def get_landmarks(image_path):\n",
    "    image_array = np.fromfile(image_path, dtype=np.uint8)\n",
    "    image = cv2.imdecode(image_array, cv2.IMREAD_COLOR)\n",
    "    if image is None:\n",
    "        raise ValueError(\"Изображение не загружено!\")\n",
    "            \n",
    "    image_rgb = cv2.cvtColor(image, cv2.COLOR_BGR2RGB)\n",
    "\n",
    "    height, width = image_rgb.shape[:2]\n",
    "\n",
    "    # Детектируем лицо\n",
    "    faces = face_mesh.process(image_rgb)\n",
    "\n",
    "    if not faces.multi_face_landmarks:\n",
    "        return\n",
    "        #raise ValueError(\"Лицо не найдено на изображении\")\n",
    "\n",
    "    shape = faces.multi_face_landmarks[0]\n",
    "\n",
    "\n",
    "    return shape, height, width"
   ]
  },
  {
   "cell_type": "code",
   "execution_count": 16,
   "id": "15b5c17d",
   "metadata": {},
   "outputs": [],
   "source": [
    "def build_dataframe(dataset_dir, t_procents: list, f_procents: list, get_label_func = lambda k : k // 8): # получаем числовой код папки\n",
    "    k = 0\n",
    "    for label_dir in sorted(os.listdir(dataset_dir), key=numeric_key):\n",
    "        label_path = os.path.join(dataset_dir, label_dir)\n",
    "        if not os.path.isdir(label_path):\n",
    "            continue\n",
    "        \n",
    "        # if get_label_func(k) % 2 == f:\n",
    "        #     continue\n",
    "        #label = get_label_func(k)\n",
    "        #label = k % 8\n",
    "        #label = 0 if label_dir == 'T' else 1  # T = 0, F = 1\n",
    "\n",
    "        for filename in os.listdir(label_path):\n",
    "            if filename.lower().endswith(('.png', '.jpg', '.jpeg')):\n",
    "                image_path = os.path.join(label_path, filename)\n",
    "\n",
    "                result = get_landmarks(image_path)\n",
    "                \n",
    "                if result is None:\n",
    "                    continue\n",
    "                landmarks, h, w = result\n",
    "\n",
    "                #if landmarks is None: continue\n",
    "                \n",
    "                avg_dev_percent = average_mouth_deviation_percent(\n",
    "                    landmarks = landmarks.landmark,\n",
    "                        image_width=w,\n",
    "                        image_height=h)\n",
    "                \n",
    "                if get_label_func(k) % 2 == 0:\n",
    "                    t_procents.append(avg_dev_percent)\n",
    "\n",
    "                else:\n",
    "                    f_procents.append(avg_dev_percent)\n",
    "                \n",
    "        k += 1\n"
   ]
  },
  {
   "cell_type": "code",
   "execution_count": 17,
   "id": "1a3f85a5",
   "metadata": {},
   "outputs": [],
   "source": [
    "t_procents = []\n",
    "f_procents = []"
   ]
  },
  {
   "cell_type": "code",
   "execution_count": 18,
   "id": "ccd88771",
   "metadata": {},
   "outputs": [],
   "source": [
    "build_dataframe(DATASET_ALL_DATA, t_procents=t_procents, f_procents=f_procents)\n"
   ]
  },
  {
   "cell_type": "code",
   "execution_count": 19,
   "id": "79cf1e9d",
   "metadata": {},
   "outputs": [
    {
     "name": "stdout",
     "output_type": "stream",
     "text": [
      "37705\n",
      "31426\n"
     ]
    }
   ],
   "source": [
    "print(len(t_procents))\n",
    "print(len(f_procents))\n"
   ]
  },
  {
   "cell_type": "code",
   "execution_count": 20,
   "id": "265cde39",
   "metadata": {},
   "outputs": [
    {
     "name": "stdout",
     "output_type": "stream",
     "text": [
      "Среднее отклонение для thinking: 3.60% от длины рта\n",
      "Среднее отклонение для feeling: 3.49% от длины рта\n"
     ]
    }
   ],
   "source": [
    "print(f\"Среднее отклонение для thinking: {sum(t_procents)/len(t_procents):.2f}% от длины рта\")\n",
    "\n",
    "print(f\"Среднее отклонение для feeling: {sum(f_procents)/len(f_procents):.2f}% от длины рта\")"
   ]
  },
  {
   "cell_type": "code",
   "execution_count": null,
   "id": "e80c0bb1",
   "metadata": {},
   "outputs": [],
   "source": []
  }
 ],
 "metadata": {
  "kernelspec": {
   "display_name": ".venv",
   "language": "python",
   "name": "python3"
  },
  "language_info": {
   "codemirror_mode": {
    "name": "ipython",
    "version": 3
   },
   "file_extension": ".py",
   "mimetype": "text/x-python",
   "name": "python",
   "nbconvert_exporter": "python",
   "pygments_lexer": "ipython3",
   "version": "3.10.5"
  }
 },
 "nbformat": 4,
 "nbformat_minor": 5
}
