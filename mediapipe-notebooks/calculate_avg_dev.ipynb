{
 "cells": [
  {
   "cell_type": "code",
   "execution_count": 1,
   "id": "702a64fb",
   "metadata": {},
   "outputs": [],
   "source": [
    "import cv2\n",
    "from imutils import face_utils\n",
    "import pandas as pd\n",
    "import numpy as np\n",
    "import mediapipe as mp\n",
    "\n",
    "import os\n",
    "import re\n",
    "import math\n"
   ]
  },
  {
   "cell_type": "code",
   "execution_count": 64,
   "id": "a4c01380",
   "metadata": {},
   "outputs": [],
   "source": [
    "pack_identify = {\n",
    "    \"mouth_up_all\" : [61, 78, 95, 88, 178, 87, 14, 317, 402, 318, 324, 308, 291],\n",
    "    \"mouth_up_indicate\" : [61, 78, 308, 291],\n",
    "    \"mouth_near_ext\" : [78, 308],\n",
    "    \"mouth_left_ext\" : 61,\n",
    "    \"mouth_rigth_ext\" : 291,\n",
    "\n",
    "    \"left_brow\" : [70, 63, 105, 66, 107, 55, 65],\n",
    "    \"rigth_brow\" : [336, 296, 334, 293, 300, 285, 295],\n",
    "    \"left_brow_indicate\" : [70, 107],\n",
    "    \"left_brow_center\" : 105,\n",
    "    \"rigth_brow_indicate\" : [336, 300],\n",
    "    \"rigth_brow_center\" : 334,\n",
    "\n",
    "\n",
    "    \"jawline_all\" : [234, 93, 132, 58, 172, 136, 150, 149, 176, 148, 152, 377, 400, 378, 379, 365, 397],\n",
    "    \"jawline_indicate\" : [149, 176, 148, 152, 377, 400, 378],\n",
    "    \"jawline_center\" : [148, 152, 377],\n",
    "    \"jawline_indicate\" : [149, 378]\n",
    "}"
   ]
  },
  {
   "cell_type": "code",
   "execution_count": 57,
   "id": "08f9ea5b",
   "metadata": {},
   "outputs": [],
   "source": [
    "class Landmark():\n",
    "    def __init__(self, x : int, y : int):\n",
    "        self.x = x\n",
    "        self.y = y"
   ]
  },
  {
   "cell_type": "code",
   "execution_count": 61,
   "id": "219d221f",
   "metadata": {},
   "outputs": [],
   "source": [
    "def segment_length(x1, y1, x2, y2):\n",
    "    return math.sqrt((y2 - y1) ** 2 + (x2 - x1) ** 2)\n",
    "\n",
    "\n",
    "def point_to_line_distance(x0, y0, x1, y1, x2, y2):\n",
    "    numerator = abs((y2 - y1) * x0 - (x2 - x1) * y0 + x2 * y1 - y2 * x1)\n",
    "    denominator = segment_length(x1, y1, x2, y2)\n",
    "    if denominator == 0:\n",
    "        raise ValueError(\"Точки x1,y1 и x2,y2 совпадают — нельзя построить прямую.\")\n",
    "    return numerator / denominator, denominator / 2\n"
   ]
  },
  {
   "cell_type": "code",
   "execution_count": null,
   "id": "960eb21d",
   "metadata": {},
   "outputs": [],
   "source": [
    "def dev_mouth(landmarks : list[Landmark],\n",
    "              left_ext_idx : int = 61,\n",
    "              rigth_ext_idx : int = 291,\n",
    "              near_lms : list = pack_identify[\"mouth_near_ext\"]):\n",
    "    left_ext_lm = landmarks[left_ext_idx]\n",
    "    rigth_ext_lm = landmarks[rigth_ext_idx]\n",
    "\n",
    "    left_near_lm = landmarks[near_lms[0]]\n",
    "    rigth_near_lm = landmarks[near_lms[1]]\n",
    "    \n",
    "    left_div_y = abs(left_ext_lm.y - left_near_lm.y)\n",
    "    rigth_div_y = abs(rigth_ext_lm.y - rigth_near_lm.y)\n",
    "\n",
    "    left_div_x = abs(left_ext_lm.x - left_near_lm.x) if left_ext_lm.x != left_near_lm.x else 1\n",
    "    rigth_div_x = abs(rigth_ext_lm.x - rigth_near_lm.x) if rigth_ext_lm.x != rigth_near_lm.x else 1\n",
    "\n",
    "    result_div = (left_div_y / left_div_x + rigth_div_y / rigth_div_x) / 2 * 100\n",
    "    return result_div\n",
    "\n",
    "def dev_brows(landmarks : list[Landmark],\n",
    "                left_ext_idxs : list = pack_identify[\"left_brow_indicate\"],\n",
    "                rigth_ext_idxs : list = pack_identify[\"rigth_brow_indicate\"],\n",
    "                left_center_idx : int = pack_identify[\"left_brow_center\"],\n",
    "                rigth_center_idx : int = pack_identify[\"rigth_brow_center\"]):\n",
    "    left_dist, left_half_base_len = point_to_line_distance(landmarks[left_center_idx].x,\n",
    "                                       landmarks[left_center_idx].y,\n",
    "                                       landmarks[left_ext_idxs[0]].x,\n",
    "                                       landmarks[left_ext_idxs[0]].y,\n",
    "                                       landmarks[left_ext_idxs[1]].x,\n",
    "                                       landmarks[left_ext_idxs[1]].y)\n",
    "    \n",
    "    rigth_dist, rigth_half_base_len = point_to_line_distance(landmarks[rigth_center_idx].x,\n",
    "                                       landmarks[rigth_center_idx].y,\n",
    "                                       landmarks[rigth_ext_idxs[0]].x,\n",
    "                                       landmarks[rigth_ext_idxs[0]].y,\n",
    "                                       landmarks[rigth_ext_idxs[1]].x,\n",
    "                                       landmarks[rigth_ext_idxs[1]].y)\n",
    "\n",
    "    result_div = (left_dist / left_half_base_len + rigth_dist / rigth_half_base_len) / 2 * 100\n",
    "    \n",
    "    return result_div\n",
    "\n",
    "def dev_jawline(landmarks : list[Landmark],\n",
    "                center : list[int] = pack_identify[\"jawline_center\"],\n",
    "                ext_idx : list[int] = pack_identify[\"jawline_indicate\"]):\n",
    "    left_dist, _ = point_to_line_distance(landmarks[center[0]].x,\n",
    "                                       landmarks[center[0]].y,\n",
    "                                       landmarks[ext_idx[0]].x,\n",
    "                                       landmarks[ext_idx[0]].y,\n",
    "                                       landmarks[ext_idx[1]].x,\n",
    "                                       landmarks[ext_idx[1]].y)\n",
    "    \n",
    "    rigth_dist, _ = point_to_line_distance(landmarks[center[-1]].x,\n",
    "                                       landmarks[center[-1]].x,\n",
    "                                       landmarks[ext_idx[0]].x,\n",
    "                                       landmarks[ext_idx[0]].y,\n",
    "                                       landmarks[ext_idx[1]].x,\n",
    "                                       landmarks[ext_idx[1]].y)\n",
    "    \n",
    "    left_dist_x = abs(landmarks[center[0]].x - landmarks[ext_idx[0]].x)\n",
    "    rigth_dist_x = abs(landmarks[center[-1]].x - landmarks[ext_idx[-1]].x)\n",
    "\n",
    "    result_div = (left_dist / left_dist_x + rigth_dist / rigth_dist_x) / 2 * 100\n",
    "\n",
    "    return result_div\n",
    "   \n"
   ]
  },
  {
   "cell_type": "code",
   "execution_count": 66,
   "id": "af006851",
   "metadata": {},
   "outputs": [],
   "source": [
    "DATASET_ALL_DATA = \"../all_data/\"\n",
    "\n",
    "# Загружаем модель\n",
    "mp_face_mesh = mp.solutions.face_mesh\n",
    "face_mesh = mp_face_mesh.FaceMesh(static_image_mode=True, max_num_faces=1)\n",
    "\n"
   ]
  },
  {
   "cell_type": "code",
   "execution_count": 67,
   "id": "e7160a49",
   "metadata": {},
   "outputs": [],
   "source": [
    "def numeric_key(name):\n",
    "    return [int(s) if s.isdigit() else s for s in re.split(r'(\\d+)', name)]"
   ]
  },
  {
   "cell_type": "code",
   "execution_count": 75,
   "id": "8a0b492f",
   "metadata": {},
   "outputs": [],
   "source": [
    "def get_landmarks(image_path):\n",
    "    image_array = np.fromfile(image_path, dtype=np.uint8)\n",
    "    image = cv2.imdecode(image_array, cv2.IMREAD_COLOR)\n",
    "    if image is None:\n",
    "        raise ValueError(\"Изображение не загружено!\")\n",
    "            \n",
    "    image_rgb = cv2.cvtColor(image, cv2.COLOR_BGR2RGB)\n",
    "\n",
    "    height, width = image_rgb.shape[:2]\n",
    "\n",
    "    # Детектируем лицо\n",
    "    faces = face_mesh.process(image_rgb)\n",
    "\n",
    "    if not faces.multi_face_landmarks:\n",
    "        return\n",
    "\n",
    "    shape = faces.multi_face_landmarks[0]\n",
    "\n",
    "    return [Landmark(p.x * width, p.y * height) for p in shape.landmark]"
   ]
  },
  {
   "cell_type": "code",
   "execution_count": 76,
   "id": "15b5c17d",
   "metadata": {},
   "outputs": [],
   "source": [
    "def build_dataframe(dataset_dir,\n",
    "                    t_procents_mouth: list,\n",
    "                    f_procents_mouth: list,\n",
    "                    t_procents_brows: list,\n",
    "                    f_procents_brows: list,\n",
    "                    t_procents_jawline: list,\n",
    "                    f_procents_jawline: list,\n",
    "                    get_label_func = lambda k : k // 8): # получаем числовой код папки\n",
    "    k = 0\n",
    "    for label_dir in sorted(os.listdir(dataset_dir), key=numeric_key):\n",
    "        label_path = os.path.join(dataset_dir, label_dir)\n",
    "        if not os.path.isdir(label_path):\n",
    "            continue\n",
    "\n",
    "        for filename in os.listdir(label_path):\n",
    "            if filename.lower().endswith(('.png', '.jpg', '.jpeg')):\n",
    "                image_path = os.path.join(label_path, filename)\n",
    "\n",
    "                result = get_landmarks(image_path)\n",
    "                \n",
    "                if result is None:\n",
    "                    continue\n",
    "                landmarks = result\n",
    "                \n",
    "                avg_dev_percent_mouth = dev_mouth(\n",
    "                    landmarks = landmarks)\n",
    "                \n",
    "                avg_dev_percent_brows = dev_brows(\n",
    "                    landmarks = landmarks)\n",
    "                \n",
    "                avg_dev_percent_jawline = dev_jawline(\n",
    "                    landmarks = landmarks)\n",
    "                \n",
    "                if get_label_func(k) % 2 == 0:\n",
    "                    t_procents_mouth.append(avg_dev_percent_mouth)\n",
    "                    t_procents_brows.append(avg_dev_percent_brows)\n",
    "                    t_procents_jawline.append(avg_dev_percent_jawline)\n",
    "\n",
    "                else:\n",
    "                    f_procents_mouth.append(avg_dev_percent_mouth)\n",
    "                    f_procents_brows.append(avg_dev_percent_brows)\n",
    "                    f_procents_jawline.append(avg_dev_percent_jawline)\n",
    "                \n",
    "        k += 1\n"
   ]
  },
  {
   "cell_type": "code",
   "execution_count": 77,
   "id": "1a3f85a5",
   "metadata": {},
   "outputs": [],
   "source": [
    "t_procents_mouth = []\n",
    "f_procents_mouth = []\n",
    "t_procents_brows = []\n",
    "f_procents_brows = []\n",
    "t_procents_jawline = []\n",
    "f_procents_jawline = []\n"
   ]
  },
  {
   "cell_type": "code",
   "execution_count": 78,
   "id": "ccd88771",
   "metadata": {},
   "outputs": [
    {
     "ename": "KeyboardInterrupt",
     "evalue": "",
     "output_type": "error",
     "traceback": [
      "\u001b[1;31m---------------------------------------------------------------------------\u001b[0m",
      "\u001b[1;31mKeyboardInterrupt\u001b[0m                         Traceback (most recent call last)",
      "Cell \u001b[1;32mIn[78], line 1\u001b[0m\n\u001b[1;32m----> 1\u001b[0m \u001b[43mbuild_dataframe\u001b[49m\u001b[43m(\u001b[49m\u001b[43mDATASET_ALL_DATA\u001b[49m\u001b[43m,\u001b[49m\n\u001b[0;32m      2\u001b[0m \u001b[43m                \u001b[49m\u001b[43mt_procents_mouth\u001b[49m\u001b[38;5;241;43m=\u001b[39;49m\u001b[43mt_procents_mouth\u001b[49m\u001b[43m,\u001b[49m\n\u001b[0;32m      3\u001b[0m \u001b[43m                \u001b[49m\u001b[43mf_procents_mouth\u001b[49m\u001b[38;5;241;43m=\u001b[39;49m\u001b[43mf_procents_mouth\u001b[49m\u001b[43m,\u001b[49m\n\u001b[0;32m      4\u001b[0m \u001b[43m                \u001b[49m\u001b[43mt_procents_brows\u001b[49m\u001b[38;5;241;43m=\u001b[39;49m\u001b[43mt_procents_brows\u001b[49m\u001b[43m,\u001b[49m\n\u001b[0;32m      5\u001b[0m \u001b[43m                \u001b[49m\u001b[43mf_procents_brows\u001b[49m\u001b[38;5;241;43m=\u001b[39;49m\u001b[43mf_procents_brows\u001b[49m\u001b[43m,\u001b[49m\n\u001b[0;32m      6\u001b[0m \u001b[43m                \u001b[49m\u001b[43mt_procents_jawline\u001b[49m\u001b[38;5;241;43m=\u001b[39;49m\u001b[43mt_procents_jawline\u001b[49m\u001b[43m,\u001b[49m\n\u001b[0;32m      7\u001b[0m \u001b[43m                \u001b[49m\u001b[43mf_procents_jawline\u001b[49m\u001b[38;5;241;43m=\u001b[39;49m\u001b[43mf_procents_jawline\u001b[49m\u001b[43m,\u001b[49m\u001b[43m)\u001b[49m\n",
      "Cell \u001b[1;32mIn[76], line 19\u001b[0m, in \u001b[0;36mbuild_dataframe\u001b[1;34m(dataset_dir, t_procents_mouth, f_procents_mouth, t_procents_brows, f_procents_brows, t_procents_jawline, f_procents_jawline, get_label_func)\u001b[0m\n\u001b[0;32m     16\u001b[0m \u001b[38;5;28;01mif\u001b[39;00m filename\u001b[38;5;241m.\u001b[39mlower()\u001b[38;5;241m.\u001b[39mendswith((\u001b[38;5;124m'\u001b[39m\u001b[38;5;124m.png\u001b[39m\u001b[38;5;124m'\u001b[39m, \u001b[38;5;124m'\u001b[39m\u001b[38;5;124m.jpg\u001b[39m\u001b[38;5;124m'\u001b[39m, \u001b[38;5;124m'\u001b[39m\u001b[38;5;124m.jpeg\u001b[39m\u001b[38;5;124m'\u001b[39m)):\n\u001b[0;32m     17\u001b[0m     image_path \u001b[38;5;241m=\u001b[39m os\u001b[38;5;241m.\u001b[39mpath\u001b[38;5;241m.\u001b[39mjoin(label_path, filename)\n\u001b[1;32m---> 19\u001b[0m     result \u001b[38;5;241m=\u001b[39m \u001b[43mget_landmarks\u001b[49m\u001b[43m(\u001b[49m\u001b[43mimage_path\u001b[49m\u001b[43m)\u001b[49m\n\u001b[0;32m     21\u001b[0m     \u001b[38;5;28;01mif\u001b[39;00m result \u001b[38;5;129;01mis\u001b[39;00m \u001b[38;5;28;01mNone\u001b[39;00m:\n\u001b[0;32m     22\u001b[0m         \u001b[38;5;28;01mcontinue\u001b[39;00m\n",
      "Cell \u001b[1;32mIn[75], line 12\u001b[0m, in \u001b[0;36mget_landmarks\u001b[1;34m(image_path)\u001b[0m\n\u001b[0;32m      9\u001b[0m height, width \u001b[38;5;241m=\u001b[39m image_rgb\u001b[38;5;241m.\u001b[39mshape[:\u001b[38;5;241m2\u001b[39m]\n\u001b[0;32m     11\u001b[0m \u001b[38;5;66;03m# Детектируем лицо\u001b[39;00m\n\u001b[1;32m---> 12\u001b[0m faces \u001b[38;5;241m=\u001b[39m \u001b[43mface_mesh\u001b[49m\u001b[38;5;241;43m.\u001b[39;49m\u001b[43mprocess\u001b[49m\u001b[43m(\u001b[49m\u001b[43mimage_rgb\u001b[49m\u001b[43m)\u001b[49m\n\u001b[0;32m     14\u001b[0m \u001b[38;5;28;01mif\u001b[39;00m \u001b[38;5;129;01mnot\u001b[39;00m faces\u001b[38;5;241m.\u001b[39mmulti_face_landmarks:\n\u001b[0;32m     15\u001b[0m     \u001b[38;5;28;01mreturn\u001b[39;00m\n",
      "File \u001b[1;32mc:\\CNN\\.venv\\lib\\site-packages\\mediapipe\\python\\solutions\\face_mesh.py:125\u001b[0m, in \u001b[0;36mFaceMesh.process\u001b[1;34m(self, image)\u001b[0m\n\u001b[0;32m    110\u001b[0m \u001b[38;5;28;01mdef\u001b[39;00m\u001b[38;5;250m \u001b[39m\u001b[38;5;21mprocess\u001b[39m(\u001b[38;5;28mself\u001b[39m, image: np\u001b[38;5;241m.\u001b[39mndarray) \u001b[38;5;241m-\u001b[39m\u001b[38;5;241m>\u001b[39m NamedTuple:\n\u001b[0;32m    111\u001b[0m \u001b[38;5;250m  \u001b[39m\u001b[38;5;124;03m\"\"\"Processes an RGB image and returns the face landmarks on each detected face.\u001b[39;00m\n\u001b[0;32m    112\u001b[0m \n\u001b[0;32m    113\u001b[0m \u001b[38;5;124;03m  Args:\u001b[39;00m\n\u001b[1;32m   (...)\u001b[0m\n\u001b[0;32m    122\u001b[0m \u001b[38;5;124;03m    face landmarks on each detected face.\u001b[39;00m\n\u001b[0;32m    123\u001b[0m \u001b[38;5;124;03m  \"\"\"\u001b[39;00m\n\u001b[1;32m--> 125\u001b[0m   \u001b[38;5;28;01mreturn\u001b[39;00m \u001b[38;5;28;43msuper\u001b[39;49m\u001b[43m(\u001b[49m\u001b[43m)\u001b[49m\u001b[38;5;241;43m.\u001b[39;49m\u001b[43mprocess\u001b[49m\u001b[43m(\u001b[49m\u001b[43minput_data\u001b[49m\u001b[38;5;241;43m=\u001b[39;49m\u001b[43m{\u001b[49m\u001b[38;5;124;43m'\u001b[39;49m\u001b[38;5;124;43mimage\u001b[39;49m\u001b[38;5;124;43m'\u001b[39;49m\u001b[43m:\u001b[49m\u001b[43m \u001b[49m\u001b[43mimage\u001b[49m\u001b[43m}\u001b[49m\u001b[43m)\u001b[49m\n",
      "File \u001b[1;32mc:\\CNN\\.venv\\lib\\site-packages\\mediapipe\\python\\solution_base.py:340\u001b[0m, in \u001b[0;36mSolutionBase.process\u001b[1;34m(self, input_data)\u001b[0m\n\u001b[0;32m    334\u001b[0m   \u001b[38;5;28;01melse\u001b[39;00m:\n\u001b[0;32m    335\u001b[0m     \u001b[38;5;28mself\u001b[39m\u001b[38;5;241m.\u001b[39m_graph\u001b[38;5;241m.\u001b[39madd_packet_to_input_stream(\n\u001b[0;32m    336\u001b[0m         stream\u001b[38;5;241m=\u001b[39mstream_name,\n\u001b[0;32m    337\u001b[0m         packet\u001b[38;5;241m=\u001b[39m\u001b[38;5;28mself\u001b[39m\u001b[38;5;241m.\u001b[39m_make_packet(input_stream_type,\n\u001b[0;32m    338\u001b[0m                                  data)\u001b[38;5;241m.\u001b[39mat(\u001b[38;5;28mself\u001b[39m\u001b[38;5;241m.\u001b[39m_simulated_timestamp))\n\u001b[1;32m--> 340\u001b[0m \u001b[38;5;28;43mself\u001b[39;49m\u001b[38;5;241;43m.\u001b[39;49m\u001b[43m_graph\u001b[49m\u001b[38;5;241;43m.\u001b[39;49m\u001b[43mwait_until_idle\u001b[49m\u001b[43m(\u001b[49m\u001b[43m)\u001b[49m\n\u001b[0;32m    341\u001b[0m \u001b[38;5;66;03m# Create a NamedTuple object where the field names are mapping to the graph\u001b[39;00m\n\u001b[0;32m    342\u001b[0m \u001b[38;5;66;03m# output stream names.\u001b[39;00m\n\u001b[0;32m    343\u001b[0m \u001b[38;5;28;01mif\u001b[39;00m \u001b[38;5;28mself\u001b[39m\u001b[38;5;241m.\u001b[39m_output_stream_type_info \u001b[38;5;129;01mis\u001b[39;00m \u001b[38;5;28;01mNone\u001b[39;00m:\n",
      "\u001b[1;31mKeyboardInterrupt\u001b[0m: "
     ]
    }
   ],
   "source": [
    "build_dataframe(DATASET_ALL_DATA,\n",
    "                t_procents_mouth=t_procents_mouth,\n",
    "                f_procents_mouth=f_procents_mouth,\n",
    "                t_procents_brows=t_procents_brows,\n",
    "                f_procents_brows=f_procents_brows,\n",
    "                t_procents_jawline=t_procents_jawline,\n",
    "                f_procents_jawline=f_procents_jawline,)\n"
   ]
  },
  {
   "cell_type": "code",
   "execution_count": null,
   "id": "79cf1e9d",
   "metadata": {},
   "outputs": [
    {
     "name": "stdout",
     "output_type": "stream",
     "text": [
      "37705\n",
      "31426\n",
      "37705\n",
      "31426\n"
     ]
    }
   ],
   "source": [
    "print(len(t_procents_mouth))\n",
    "print(len(f_procents_mouth))\n",
    "\n",
    "print(len(t_procents_jawline))\n",
    "print(len(f_procents_jawline))\n",
    "\n",
    "print(len(t_procents_brows))\n",
    "print(len(f_procents_brows))\n"
   ]
  },
  {
   "cell_type": "code",
   "execution_count": 53,
   "id": "265cde39",
   "metadata": {},
   "outputs": [
    {
     "name": "stdout",
     "output_type": "stream",
     "text": [
      "Среднее отклонение линии рта для thinking: 17.69%\n",
      "Среднее отклонение линии рта для feeling: 18.81%\n"
     ]
    }
   ],
   "source": [
    "print(f\"Среднее отклонение линии рта для thinking: {sum(t_procents_mouth)/len(t_procents_mouth):.2f}%\")\n",
    "\n",
    "print(f\"Среднее отклонение линии рта для feeling: {sum(f_procents_mouth)/len(f_procents_mouth):.2f}%\")"
   ]
  },
  {
   "cell_type": "code",
   "execution_count": 54,
   "id": "e80c0bb1",
   "metadata": {},
   "outputs": [
    {
     "name": "stdout",
     "output_type": "stream",
     "text": [
      "Среднее отклонение бровей для thinking: 35.23%\n",
      "Среднее отклонение бровей для feeling: 34.40%\n"
     ]
    }
   ],
   "source": [
    "print(f\"Среднее отклонение бровей для thinking: {sum(t_procents_jawline)/len(t_procents_jawline):.2f}%\")\n",
    "\n",
    "print(f\"Среднее отклонение бровей для feeling: {sum(f_procents_jawline)/len(f_procents_jawline):.2f}%\")"
   ]
  },
  {
   "cell_type": "code",
   "execution_count": null,
   "id": "518ed582",
   "metadata": {},
   "outputs": [],
   "source": [
    "print(f\"Среднее отклонение бровей для thinking: {sum(t_procents_brows)/len(t_procents_brows):.2f}%\")\n",
    "\n",
    "print(f\"Среднее отклонение бровей для feeling: {sum(f_procents_brows)/len(f_procents_brows):.2f}%\")"
   ]
  }
 ],
 "metadata": {
  "kernelspec": {
   "display_name": ".venv",
   "language": "python",
   "name": "python3"
  },
  "language_info": {
   "codemirror_mode": {
    "name": "ipython",
    "version": 3
   },
   "file_extension": ".py",
   "mimetype": "text/x-python",
   "name": "python",
   "nbconvert_exporter": "python",
   "pygments_lexer": "ipython3",
   "version": "3.10.5"
  }
 },
 "nbformat": 4,
 "nbformat_minor": 5
}
