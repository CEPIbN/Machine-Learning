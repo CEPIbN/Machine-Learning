{
 "cells": [
  {
   "cell_type": "code",
   "execution_count": 1,
   "id": "a28a5146",
   "metadata": {},
   "outputs": [],
   "source": [
    "import cv2\n",
    "import pandas as pd\n",
    "import numpy as np\n",
    "import mediapipe as mp\n",
    "import matplotlib.pyplot as plt\n",
    "\n",
    "import os\n",
    "import re"
   ]
  },
  {
   "cell_type": "code",
   "execution_count": 76,
   "id": "a6bdd7e0",
   "metadata": {},
   "outputs": [],
   "source": [
    "pack_identify = {\n",
    "    \"mouth_up_all\" : [61, 78, 95, 88, 178, 87, 14, 317, 402, 318, 324, 308, 291],\n",
    "    \"mouth_up_indicate\" : [61, 78, 308, 291],\n",
    "\n",
    "    \"left_brow\" : [70, 63, 105, 66, 107, 55, 65],\n",
    "    \"rigth_brow\" : [336, 296, 334, 293, 300, 285, 295],\n",
    "    \"left_brow_indicate\" : [70, 105, 107],\n",
    "    \"rigth_brow_indicate\" : [336, 334, 300],\n",
    "\n",
    "\n",
    "    \"jawline_all\" : [234, 93, 132, 58, 172, 136, 150, 149, 176, 148, 152, 377, 400, 378, 379, 365, 397],\n",
    "    \"jawline_indicate\" : [149, 176, 148, 152, 377, 400, 378]\n",
    "}"
   ]
  },
  {
   "cell_type": "code",
   "execution_count": null,
   "id": "062122fa",
   "metadata": {},
   "outputs": [],
   "source": [
    "DATASET_ALL_DATA = \"../all_data/\""
   ]
  },
  {
   "cell_type": "code",
   "execution_count": 3,
   "id": "b3ea0d5d",
   "metadata": {},
   "outputs": [],
   "source": [
    "# Загружаем модель\n",
    "mp_face_mesh = mp.solutions.face_mesh\n",
    "face_mesh = mp_face_mesh.FaceMesh(static_image_mode=True, max_num_faces=1)"
   ]
  },
  {
   "cell_type": "code",
   "execution_count": 31,
   "id": "f1ffa86e",
   "metadata": {},
   "outputs": [],
   "source": [
    "def get_landmarks(image_path, landmarks = []):\n",
    "    image_array = np.fromfile(image_path, dtype=np.uint8)\n",
    "    image = cv2.imdecode(image_array, cv2.IMREAD_COLOR)\n",
    "    if image is None:\n",
    "        raise ValueError(\"Изображение не загружено!\")\n",
    "            \n",
    "    image_rgb = cv2.cvtColor(image, cv2.COLOR_BGR2RGB)\n",
    "\n",
    "    h, w = image_rgb.shape[:2]\n",
    "\n",
    "    # Детектируем лицо\n",
    "    faces = face_mesh.process(image_rgb)\n",
    "\n",
    "    if not faces.multi_face_landmarks:\n",
    "        return\n",
    "        #raise ValueError(\"Лицо не найдено на изображении\")\n",
    "\n",
    "    shape = faces.multi_face_landmarks[0]\n",
    "\n",
    "    #landmarks = np.array([(p.x * w, p.y * h) for p in shape.landmark])\n",
    "    #landmarks = normalize_landmarks(np.array([(p.x * width, p.y * height) for p in shape.landmark]))\n",
    "    #landmarks = landmarks[pack_identify[\"mouth\"]]\n",
    "\n",
    "    return shape, image_rgb, h, w"
   ]
  },
  {
   "cell_type": "code",
   "execution_count": 70,
   "id": "5c4195df",
   "metadata": {},
   "outputs": [],
   "source": [
    "def its_showtime(landmarks, image, h, w, pack_landmarks):\n",
    "    for idx in pack_landmarks:\n",
    "        lm = landmarks.landmark[idx]\n",
    "        x, y = int(lm.x * w), int(lm.y * h)\n",
    "        cv2.circle(image, (x, y), 2, (0, 255, 0), -1)\n",
    "        cv2.putText(image, str(idx), (x-4, y-6), cv2.FONT_HERSHEY_SIMPLEX, 0.3, (0, 0, 255), 1)"
   ]
  },
  {
   "cell_type": "code",
   "execution_count": 78,
   "id": "a0c5edda",
   "metadata": {},
   "outputs": [],
   "source": [
    "path_to_image = \"../binary_data/T/2510.jpg\""
   ]
  },
  {
   "cell_type": "code",
   "execution_count": null,
   "id": "40bb1d61",
   "metadata": {},
   "outputs": [],
   "source": []
  },
  {
   "cell_type": "code",
   "execution_count": 79,
   "id": "e5b0060b",
   "metadata": {},
   "outputs": [],
   "source": [
    "landmarks, image_rgb, h, w = get_landmarks(path_to_image)\n",
    "\n",
    "its_showtime(landmarks, h=h, w=w, image=image_rgb, pack_landmarks=pack_identify[\"jawline_indicate\"])\n",
    "\n",
    "cv2.imshow(\"Face with Eyebrow Landmarks\", image_rgb)\n",
    "cv2.waitKey(0)\n",
    "cv2.destroyAllWindows()"
   ]
  }
 ],
 "metadata": {
  "kernelspec": {
   "display_name": ".venv",
   "language": "python",
   "name": "python3"
  },
  "language_info": {
   "codemirror_mode": {
    "name": "ipython",
    "version": 3
   },
   "file_extension": ".py",
   "mimetype": "text/x-python",
   "name": "python",
   "nbconvert_exporter": "python",
   "pygments_lexer": "ipython3",
   "version": "3.10.5"
  }
 },
 "nbformat": 4,
 "nbformat_minor": 5
}
