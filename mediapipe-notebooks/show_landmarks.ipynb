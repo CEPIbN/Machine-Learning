{
 "cells": [
  {
   "cell_type": "code",
   "execution_count": null,
   "id": "a28a5146",
   "metadata": {},
   "outputs": [],
   "source": [
    "import cv2\n",
    "import pandas as pd\n",
    "import numpy as np\n",
    "import mediapipe as mp\n",
    "import matplotlib.pyplot as plt\n",
    "\n",
    "import os\n",
    "import re"
   ]
  },
  {
   "cell_type": "code",
   "execution_count": null,
   "id": "a6bdd7e0",
   "metadata": {},
   "outputs": [],
   "source": [
    "pack_identify = {\n",
    "    \"mouth\" : [0, 13, 14, 61, 291]\n",
    "}"
   ]
  },
  {
   "cell_type": "code",
   "execution_count": null,
   "id": "062122fa",
   "metadata": {},
   "outputs": [],
   "source": [
    "DATASET_ALL_DATA = \"../all_data/\""
   ]
  },
  {
   "cell_type": "code",
   "execution_count": null,
   "id": "b3ea0d5d",
   "metadata": {},
   "outputs": [],
   "source": [
    "# Загружаем модель\n",
    "mp_face_mesh = mp.solutions.face_mesh\n",
    "face_mesh = mp_face_mesh.FaceMesh(static_image_mode=True, max_num_faces=1)"
   ]
  },
  {
   "cell_type": "code",
   "execution_count": null,
   "id": "f1ffa86e",
   "metadata": {},
   "outputs": [],
   "source": [
    "def get_landmarks(image_path, landmarks = []):\n",
    "    image_array = np.fromfile(image_path, dtype=np.uint8)\n",
    "    image = cv2.imdecode(image_array, cv2.IMREAD_COLOR)\n",
    "    if image is None:\n",
    "        raise ValueError(\"Изображение не загружено!\")\n",
    "            \n",
    "    image_rgb = cv2.cvtColor(image, cv2.COLOR_BGR2RGB)\n",
    "\n",
    "    h, w, _ = image_rgb.shape[:2]\n",
    "\n",
    "    # Детектируем лицо\n",
    "    faces = face_mesh.process(image_rgb)\n",
    "\n",
    "    if not faces.multi_face_landmarks:\n",
    "        return\n",
    "        #raise ValueError(\"Лицо не найдено на изображении\")\n",
    "\n",
    "    shape = faces.multi_face_landmarks[0]\n",
    "\n",
    "    landmarks = np.array([(p.x * w, p.y * h) for p in shape.landmark])\n",
    "    #landmarks = normalize_landmarks(np.array([(p.x * width, p.y * height) for p in shape.landmark]))\n",
    "    landmarks = landmarks[pack_identify[\"mouth\"]]\n",
    "\n",
    "    return landmarks"
   ]
  },
  {
   "cell_type": "code",
   "execution_count": null,
   "id": "5c4195df",
   "metadata": {},
   "outputs": [],
   "source": [
    "def its_showtime(landmarks):\n",
    "    for landmark in landmarks:\n",
    "            x = int(landmark[0])\n",
    "            y = int(landmark[1])\n",
    "            plt.scatter(x, y, c='lime', s=10)  # точка: цвет и размер"
   ]
  },
  {
   "cell_type": "code",
   "execution_count": null,
   "id": "a0c5edda",
   "metadata": {},
   "outputs": [],
   "source": [
    "path_to_image = \"../all_data/9 Дю/5826.jpg\""
   ]
  },
  {
   "cell_type": "code",
   "execution_count": null,
   "id": "40bb1d61",
   "metadata": {},
   "outputs": [],
   "source": [
    "image = cv2.imread(path_to_image)"
   ]
  },
  {
   "cell_type": "code",
   "execution_count": null,
   "id": "2f38840a",
   "metadata": {},
   "outputs": [],
   "source": [
    "# Отображение с помощью matplotlib\n",
    "plt.figure(figsize=(10, 10))\n",
    "plt.imshow(image)\n",
    "plt.axis('off')"
   ]
  },
  {
   "cell_type": "code",
   "execution_count": null,
   "id": "e5b0060b",
   "metadata": {},
   "outputs": [],
   "source": [
    "landmarks = get_landmarks(path_to_image)\n",
    "\n",
    "its_showtime(landmarks)\n",
    "\n",
    "plt.title('Mediapipe FaceMesh — только точки')\n",
    "plt.show()"
   ]
  }
 ],
 "metadata": {
  "kernelspec": {
   "display_name": ".venv",
   "language": "python",
   "name": "python3"
  },
  "language_info": {
   "name": "python",
   "version": "3.10.5"
  }
 },
 "nbformat": 4,
 "nbformat_minor": 5
}
