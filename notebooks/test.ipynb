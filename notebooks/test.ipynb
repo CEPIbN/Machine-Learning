{
 "cells": [
  {
   "cell_type": "code",
   "execution_count": 1,
   "metadata": {},
   "outputs": [
    {
     "name": "stdout",
     "output_type": "stream",
     "text": [
      "OpenCV version: 4.11.0\n",
      "dlib version: 19.22.99\n",
      "Размер изображения: (398, 246, 3)\n",
      "Тип данных: uint8\n",
      "Сохранено: 27 точек\n"
     ]
    }
   ],
   "source": [
    "import cv2\n",
    "import dlib\n",
    "from matplotlib import pyplot as plt\n",
    "#from imutils import face_utils\n",
    "import pandas as pd\n",
    "\n",
    "print(\"OpenCV version:\", cv2.__version__)\n",
    "print(\"dlib version:\", dlib.__version__)\n",
    "\n",
    "image = cv2.imread(\"../data/person.jpg\")  # Замените на ваш путь\n",
    "if image is None:\n",
    "    raise ValueError(\"Изображение не загружено!\")\n",
    "\n",
    "print(\"Размер изображения:\", image.shape)  # Должно быть (H, W, 3) для BGR\n",
    "print(\"Тип данных:\", image.dtype)  # Должно быть uint8\n",
    "\n",
    "# Загружаем модель\n",
    "predictor = dlib.shape_predictor(\"../models/shape_predictor_68_face_landmarks.dat\")\n",
    "detector = dlib.get_frontal_face_detector()\n",
    "\n",
    "# Преобразуем изображение в оттенки серого\n",
    "image = cv2.cvtColor(image, cv2.COLOR_BGR2GRAY)\n",
    "\n",
    "# Детектируем лицо\n",
    "faces = detector(image)\n",
    "\n",
    "data = []\n",
    "#Для каждого лица найдём ключевые точки\n",
    "for face in faces:\n",
    "    landmarks = predictor(image, face)\n",
    "    #shape = face_utils.shape_to_np(shape)\n",
    "\n",
    "    for idx in list(range(0, 17)) + list(range(17, 27)):\n",
    "        x = landmarks.part(idx).x\n",
    "        y = landmarks.part(idx).y\n",
    "        data.append({\"point_id\": idx, \"x\": x, \"y\": y})\n",
    "\n",
    "# Сохраняем в CSV\n",
    "df = pd.DataFrame(data)\n",
    "df.to_csv(\"../face_landmarks.csv\", index=False)\n",
    "\n",
    "print(\"Сохранено:\", df.shape[0], \"точек\")\n",
    "\n",
    "# Отображаем результат\n",
    "# plt.imshow(cv2.cvtColor(image, cv2.COLOR_BGR2RGB))\n",
    "# plt.axis(\"off\")\n",
    "# plt.show()\n",
    "\n",
    "# Показ изображения с результатами\n",
    "# cv2.imshow(\"Eyebrow Landmarks\", image)\n",
    "# cv2.waitKey(0)\n",
    "# cv2.destroyAllWindows()\n",
    "\n",
    "\n",
    "\n"
   ]
  }
 ],
 "metadata": {
  "kernelspec": {
   "display_name": "Python 3",
   "language": "python",
   "name": "python3"
  },
  "language_info": {
   "codemirror_mode": {
    "name": "ipython",
    "version": 3
   },
   "file_extension": ".py",
   "mimetype": "text/x-python",
   "name": "python",
   "nbconvert_exporter": "python",
   "pygments_lexer": "ipython3",
   "version": "3.8.7"
  }
 },
 "nbformat": 4,
 "nbformat_minor": 2
}
